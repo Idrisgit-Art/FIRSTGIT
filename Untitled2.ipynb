{
 "cells": [
  {
   "cell_type": "markdown",
   "id": "c56f0afa-b988-4166-9c6a-1b7da2cb0fdd",
   "metadata": {},
   "source": [
    "Idrisa-data science Notebook."
   ]
  },
  {
   "cell_type": "markdown",
   "id": "1707987e-6d43-4954-8238-526d0fd32859",
   "metadata": {},
   "source": [
    "## Introduction\n",
    "This notebook shows some aspects of data science, including languages, libraries, tools, and practical examples. It is designed to provide a basic understanding of the key concepts and applications in data science."
   ]
  },
  {
   "cell_type": "markdown",
   "id": "339cf794-f8ec-49b2-ac54-2c0fc040969b",
   "metadata": {},
   "source": [
    "## Data Science Languages\n",
    "- Python\n",
    "- R\n",
    "- SQL\n",
    "-Otherlanguages like Julia and Scala"
   ]
  },
  {
   "cell_type": "markdown",
   "id": "d17c6101-8e20-4db0-a170-b49199b21326",
   "metadata": {},
   "source": [
    "## Data Science Libraries\n",
    "- Pandas\n",
    "- NumPy\n",
    "- Matplotlib\n",
    "- Scikit-learn\n",
    "- TensorFlow"
   ]
  },
  {
   "cell_type": "markdown",
   "id": "beaf7b43-aa8f-4823-bade-fc02f763fcf1",
   "metadata": {},
   "source": [
    "## Data Science Tools\n",
    "\n",
    "| Tool        | Description                |\n",
    "|-------------|----------------------------|\n",
    "| Jupyter     | Interactive computing environment |\n",
    "| GitHub       | Version control and collaboration platform |\n",
    "| Anaconda    | Distribution of Python and R for scientific computing |\n",
    "| Tableau     | Data visualization tool     |"
   ]
  },
  {
   "cell_type": "markdown",
   "id": "16c0b5e8-8eee-4c28-b2b3-a9dc759e661c",
   "metadata": {},
   "source": [
    "## Arithmetic Expression Examples\n",
    "In this section, we will demonstrate basic arithmetic expressions and their results."
   ]
  },
  {
   "cell_type": "code",
   "execution_count": 4,
   "id": "417a1a14-a368-4640-9d53-5db7e3c6ec77",
   "metadata": {},
   "outputs": [
    {
     "data": {
      "text/plain": [
       "20"
      ]
     },
     "execution_count": 4,
     "metadata": {},
     "output_type": "execute_result"
    }
   ],
   "source": [
    "# Multiply and add numbers\n",
    "a = 5\n",
    "b = 3\n",
    "result = a * b + a\n",
    "result"
   ]
  },
  {
   "cell_type": "code",
   "execution_count": 5,
   "id": "78303b37-92bf-40ba-86b8-4645e549e5f2",
   "metadata": {},
   "outputs": [
    {
     "data": {
      "text/plain": [
       "2.5"
      ]
     },
     "execution_count": 5,
     "metadata": {},
     "output_type": "execute_result"
    }
   ],
   "source": [
    "# Convert minutes to hours\n",
    "minutes = 150\n",
    "hours = minutes / 60\n",
    "hours"
   ]
  },
  {
   "cell_type": "markdown",
   "id": "dfa884ba-aa80-4b37-8992-afa4515ff13c",
   "metadata": {},
   "source": [
    "## Objectives\n",
    "- Understand basic data science languages and libraries.\n",
    "- Learn about essential tools used in data science.\n",
    "- Practice simple arithmetic operations in Python.\n",
    "- Convert units using Python code."
   ]
  },
  {
   "cell_type": "markdown",
   "id": "ecec3e5c-e5e1-4301-9ab0-3aafb57dd0f4",
   "metadata": {},
   "source": [
    "## Author\n",
    "**Idrisa Mustafa SELEMANI**"
   ]
  },
  {
   "cell_type": "code",
   "execution_count": null,
   "id": "fb725f22-400a-449b-8fb8-5d8686ed7b96",
   "metadata": {},
   "outputs": [],
   "source": []
  }
 ],
 "metadata": {
  "kernelspec": {
   "display_name": "anaconda-2024.02-py310",
   "language": "python",
   "name": "conda-env-anaconda-2024.02-py310-py"
  },
  "language_info": {
   "codemirror_mode": {
    "name": "ipython",
    "version": 3
   },
   "file_extension": ".py",
   "mimetype": "text/x-python",
   "name": "python",
   "nbconvert_exporter": "python",
   "pygments_lexer": "ipython3",
   "version": "3.10.14"
  }
 },
 "nbformat": 4,
 "nbformat_minor": 5
}
